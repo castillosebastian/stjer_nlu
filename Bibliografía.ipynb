{
  "nbformat": 4,
  "nbformat_minor": 0,
  "metadata": {
    "colab": {
      "name": "Bibliografía.ipynb",
      "provenance": [],
      "toc_visible": true,
      "authorship_tag": "ABX9TyP80tUOV6AfQtUy1MRNS4he",
      "include_colab_link": true
    },
    "kernelspec": {
      "name": "python3",
      "display_name": "Python 3"
    }
  },
  "cells": [
    {
      "cell_type": "markdown",
      "metadata": {
        "id": "view-in-github",
        "colab_type": "text"
      },
      "source": [
        "<a href=\"https://colab.research.google.com/github/castillosebastian/stjer_nlu/blob/master/Bibliograf%C3%ADa.ipynb\" target=\"_parent\"><img src=\"https://colab.research.google.com/assets/colab-badge.svg\" alt=\"Open In Colab\"/></a>"
      ]
    },
    {
      "cell_type": "markdown",
      "metadata": {
        "id": "7Hg7YNnU_e0Q"
      },
      "source": [
        "# Listado Bibliográfico Comentado"
      ]
    },
    {
      "cell_type": "markdown",
      "metadata": {
        "id": "_yOuiQ20KweY"
      },
      "source": [
        "Estado del arte, ver:\n",
        "- nlp legal text o https://arxiv.org/search/?query=nlp+legal+text&searchtype=all&abstracts=show&order=-announced_date_first&size=50"
      ]
    },
    {
      "cell_type": "markdown",
      "metadata": {
        "id": "gx44Ye7d_jBP"
      },
      "source": [
        "Artículos\n",
        "\n",
        "[chatbot]\n",
        "- ParlAI: A Dialog Research Software Platform Alexander, (Facebook), H. Miller [link](https://arxiv.org/abs/1705.06476)\n",
        "- Recipes for building an open-domain chatbot, (Facebook), Stephen Rolle [link](https://arxiv.org/abs/2004.13637)\n",
        "- The design and implementation of Language Learning Chatbot with XAI using Ontology and Transfer Learning, Nuobei Shi, Qin Zeng, Raymond Lee, [link](https://drive.google.com/file/d/16Te69mSXF6CF7hgSVp1k67JqbjZztCjB/view?usp=sharing)\n",
        "\n",
        "[document_clasification]\n",
        "- Legal Document Classification: An Application to Law Area Prediction of Petitions to Public Prosecution Service, Noguti, [link](https://drive.google.com/file/d/1WTiyJm14hC1dLefrDv94KAKqA13komix/view?usp=sharing)\n",
        "- Be More with Less: Hypergraph Attention Networks for Inductive Text Classification, Kaize Ding, [link](https://arxiv.org/pdf/2011.00387.pdf). Trabaja representacione semánticas con hypergráficos. Muy interesante por su capacitadad representacional y potencial semántico.\n",
        "- Long-length Legal Document Classification, Lulu Wan, George Papageorgiou, Michael Seddon, Mirko Bernardoni, [link](https://arxiv.org/pdf/1912.06905.pdf)\n",
        "\n",
        "\n",
        "[topic_model/clasification]\n",
        "- Topic Discovery in Massive Text Corpora Based on\n",
        "Min-Hashing, Gibran Fuentes-Pinedaa [link](https://arxiv.org/pdf/1807.00938.pdf)\n",
        "- Topic Modeling with Contextualized Word Representation Clusters, Laure Thompson, [link](https://arxiv.org/pdf/2010.12626.pdf)\n",
        "\n",
        "\n",
        "[citacion]\n",
        "- HybridCite: A Hybrid Model for Context-Aware Citation Recommendation, Michael Färber, [link](https://arxiv.org/pdf/2002.06406.pdf). Contiene propuesta de Doc2Vec y Paper2Vec. Muy bueno y con código.\n",
        "\n",
        "[domain_conceptual_change]\n",
        "- Mapping three decades of intellectual change in academia, Christopher D. Manning, [link](https://arxiv.org/ftp/arxiv/papers/2004/2004.01291.pdf)\n",
        "\n",
        "[anonimizacion]\n",
        "- Towards De-identification of Legal Texts, Garat y Wonsever, [link](https://arxiv.org/pdf/1910.03739.pdf)"
      ]
    },
    {
      "cell_type": "markdown",
      "metadata": {
        "id": "wxaTDgGgCXvd"
      },
      "source": [
        "# Notas\n",
        "\n",
        "- Understanding LDA: [Nota](https://www.kdnuggets.com/2019/09/overview-topics-extraction-python-latent-dirichlet-allocation.html) y [código](https://github.com/FelixChop/MediumArticles/blob/master/LDA-BBC.ipynb)\n",
        "- Build your language model, Bigrams and Trigrams, From NLPStanfordCourse: [link](https://nlpforhackers.io/language-models/ ) \n",
        "- Google AI Blog on \"TRANSFORMERS\" (Muy bueno) [link](https://ai.googleblog.com/2017/08/transformer-novel-neural-network.html)\n"
      ]
    },
    {
      "cell_type": "markdown",
      "metadata": {
        "id": "h2-5_Rl-bDLp"
      },
      "source": [
        "# Recorridos"
      ]
    },
    {
      "cell_type": "markdown",
      "metadata": {
        "id": "r09qzc4cbmIE"
      },
      "source": [
        "## Neural Nets\n",
        "\n",
        "La introducción de Jurafstky (2018:CH7) es fundamental para una comprensión de los elementos y operaciones de redes neuronales (RN) simples. Tambien CH9 presente 'recurrent neural networks' o RNN."
      ]
    },
    {
      "cell_type": "markdown",
      "metadata": {
        "id": "9HwbatuQmL4N"
      },
      "source": [
        "# Tools"
      ]
    },
    {
      "cell_type": "markdown",
      "metadata": {
        "id": "M3wdO4PDmU1D"
      },
      "source": [
        "\n",
        "\n",
        "## Simple DataVisualizator\n",
        "\n",
        "- Simple Data Visualizator [link](https://realpython.com/python-dash/)\n",
        "\n",
        "\n",
        "## Multipage Report !!!Excelente\n",
        "\n",
        "- This app allows you to prepare a multipgage report with interactive and graphs tables. This may be used for monthly, quarterly, or yearly reports [link](https://github.com/plotly/dash-sample-apps/tree/master/apps/dash-multipage-report)\n",
        "\n",
        "## Dashboards\n",
        "\n",
        "- Plotly's dash framework can be used for Natural Language Processing (NLP) [link](https://github.com/plotly/dash-sample-apps/tree/master/apps/dash-nlp)\n",
        "\n",
        "- 2437 papers from the CORD-19 dataset* were categorised into 12 topics using LDA analysis. [link](https://dash-gallery.plotly.host/dash-cytoscape-lda/)\n",
        "\n",
        "## Pivot_Table\n",
        "- Dash Pivottable [link](https://github.com/plotly/dash-pivottable)\n",
        "\n",
        "## Web App Corpora Visualization\n",
        "\n",
        "- Cartolab [link](https://arxiv.org/pdf/2003.00975.pdf)\n"
      ]
    }
  ]
}