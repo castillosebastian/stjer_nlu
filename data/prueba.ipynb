{
 "cells": [
  {
   "cell_type": "code",
   "execution_count": 1,
   "metadata": {},
   "outputs": [
    {
     "name": "stdout",
     "output_type": "stream",
     "text": [
      " \u001b[0m\u001b[01;34manaconda3\u001b[0m/\r\n",
      " \u001b[01;34mapgyedataaccess\u001b[0m/\r\n",
      " \u001b[01;34mapgyejuserorganization\u001b[0m/\r\n",
      " \u001b[01;34mapgyeoperationsjuser\u001b[0m/\r\n",
      " \u001b[01;34mArc-Dark\u001b[0m/\r\n",
      "\u001b[01;34m'ATLAS.TI 7.5.4'\u001b[0m/\r\n",
      " \u001b[01;34mbin\u001b[0m/\r\n",
      " bookmarks_6_3_20.html\r\n",
      " Configuracion_wifi\r\n",
      " \u001b[01;34mcorporate-earnings-main\u001b[0m/\r\n",
      " \u001b[01;34mcs224u\u001b[0m/\r\n",
      " \u001b[01;34mdash-sample-apps\u001b[0m/\r\n",
      " data.tgz\r\n",
      " \u001b[01;34mDescargas\u001b[0m/\r\n",
      " \u001b[01;34mDocumentos\u001b[0m/\r\n",
      " \u001b[01;34mEasyDataExplorer\u001b[0m/\r\n",
      " \u001b[01;34mEscritorio\u001b[0m/\r\n",
      " \u001b[01;34mgensim-data\u001b[0m/\r\n",
      " \u001b[01;34mhttps:\u001b[0m/\r\n",
      " \u001b[01;34mImágenes\u001b[0m/\r\n",
      " \u001b[01;34mjdk-11.0.10\u001b[0m/\r\n",
      " \u001b[01;34mJustat\u001b[0m/\r\n",
      " listappa.txt\r\n",
      " \u001b[01;34mMúsica\u001b[0m/\r\n",
      " \u001b[01;34mnltk_data\u001b[0m/\r\n",
      " \u001b[01;34mPaginaWeb\u001b[0m/\r\n",
      " \u001b[01;34mPlantillas\u001b[0m/\r\n",
      " \u001b[01;34mPosgrado\u001b[0m/\r\n",
      " \u001b[01;34mPrueba\u001b[0m/\r\n",
      " \u001b[01;34mPúblico\u001b[0m/\r\n",
      " \u001b[01;34mPycharmProjects\u001b[0m/\r\n",
      " \u001b[01;34mPython-3.7.1\u001b[0m/\r\n",
      " \u001b[01;34mR\u001b[0m/\r\n",
      " \u001b[01;34mradiant.sessions\u001b[0m/\r\n",
      " \u001b[01;34mrtl8723de\u001b[0m/\r\n",
      " \u001b[01;34mrtlwifi_new\u001b[0m/\r\n",
      " \u001b[01;34msimpledash\u001b[0m/\r\n",
      " \u001b[01;34msnap\u001b[0m/\r\n",
      " \u001b[01;34mthinkorswim\u001b[0m/\r\n",
      " \u001b[01;34mUntitled\u001b[0m/\r\n",
      " Untitled.ipynb\r\n",
      " \u001b[01;34mVídeos\u001b[0m/\r\n",
      " \u001b[01;34mViejaMañaCarpetaCompartida\u001b[0m/\r\n",
      "\u001b[01;34m'VirtualBox VMs'\u001b[0m/\r\n",
      "\u001b[01;34m'Wall Street 2 Money Never Sleeps TS XViD - IMAGiNE'\u001b[0m/\r\n"
     ]
    }
   ],
   "source": [
    "ls"
   ]
  },
  {
   "cell_type": "code",
   "execution_count": null,
   "metadata": {},
   "outputs": [],
   "source": []
  }
 ],
 "metadata": {
  "kernelspec": {
   "display_name": "Python 3",
   "language": "python",
   "name": "python3"
  },
  "language_info": {
   "codemirror_mode": {
    "name": "ipython",
    "version": 3
   },
   "file_extension": ".py",
   "mimetype": "text/x-python",
   "name": "python",
   "nbconvert_exporter": "python",
   "pygments_lexer": "ipython3",
   "version": "3.7.6"
  }
 },
 "nbformat": 4,
 "nbformat_minor": 4
}
